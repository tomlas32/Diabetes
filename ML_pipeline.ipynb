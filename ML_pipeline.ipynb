{
 "cells": [
  {
   "cell_type": "markdown",
   "id": "b7de0830",
   "metadata": {},
   "source": [
    "## Part 2: ML Pipeline"
   ]
  },
  {
   "cell_type": "markdown",
   "id": "6fd1054e",
   "metadata": {},
   "source": [
    "## 1. Settings and imports"
   ]
  },
  {
   "cell_type": "code",
   "execution_count": 10,
   "id": "4b8d9aa2",
   "metadata": {},
   "outputs": [],
   "source": [
    "import pandas as pd\n",
    "import numpy as np\n",
    "from sklearn.pipeline import Pipeline\n",
    "from sklearn.impute import SimpleImputer\n",
    "from sklearn.preprocessing import StandardScaler\n",
    "from sklearn.linear_model import LogisticRegression\n",
    "from sklearn.metrics import roc_auc_score, make_scorer, classification_report, confusion_matrix\n",
    "from sklearn.model_selection import GridSearchCV, StratifiedKFold, cross_val_score\n",
    "from pathlib import Path"
   ]
  },
  {
   "cell_type": "code",
   "execution_count": 11,
   "id": "eb4b18f2",
   "metadata": {},
   "outputs": [],
   "source": [
    "class CF:\n",
    "\n",
    "    def __init__(self):\n",
    "        self.dataset = Path(\"ST001906_1.csv\")\n",
    "\n",
    "        if not self.dataset.exists():\n",
    "            raise FileNotFoundError(f\"Dataset {self.dataset} not found.\")"
   ]
  },
  {
   "cell_type": "code",
   "execution_count": 12,
   "id": "cd0262e7",
   "metadata": {},
   "outputs": [
    {
     "name": "stdout",
     "output_type": "stream",
     "text": [
      "<class 'pandas.core.frame.DataFrame'>\n",
      "RangeIndex: 61 entries, 0 to 60\n",
      "Data columns (total 80 columns):\n",
      " #   Column                 Non-Null Count  Dtype  \n",
      "---  ------                 --------------  -----  \n",
      " 0   ID                     61 non-null     object \n",
      " 1   Class                  61 non-null     int64  \n",
      " 2   1,5-Anhydroglucitol    61 non-null     float64\n",
      " 3   2-Aminobutyrate        61 non-null     float64\n",
      " 4   2-Hydroxybutyrate      61 non-null     float64\n",
      " 5   3-Aminoisobutyrate     61 non-null     float64\n",
      " 6   3-Hydroxybutyrate      61 non-null     float64\n",
      " 7   Alanine                61 non-null     float64\n",
      " 8   Allose                 60 non-null     float64\n",
      " 9   alpha-Tocopherol       61 non-null     float64\n",
      " 10  Arabinose              61 non-null     float64\n",
      " 11  Arginine               61 non-null     float64\n",
      " 12  Asparagine             61 non-null     float64\n",
      " 13  Aspartate              61 non-null     float64\n",
      " 14  beta-Alanine           61 non-null     float64\n",
      " 15  Cholesterol            61 non-null     float64\n",
      " 16  Citrate                61 non-null     float64\n",
      " 17  Creatinine             61 non-null     float64\n",
      " 18  Cysteine               61 non-null     float64\n",
      " 19  Cystine                61 non-null     float64\n",
      " 20  Elaidiate              61 non-null     float64\n",
      " 21  Erythritol             61 non-null     float64\n",
      " 22  Ethanolamine           61 non-null     float64\n",
      " 23  Fructose               61 non-null     float64\n",
      " 24  Galactose              61 non-null     float64\n",
      " 25  Gluconate              61 non-null     float64\n",
      " 26  Glucose                61 non-null     float64\n",
      " 27  Glucuronate            61 non-null     float64\n",
      " 28  Glutamate              61 non-null     float64\n",
      " 29  Glutamine              61 non-null     float64\n",
      " 30  Glycerate              61 non-null     float64\n",
      " 31  Glycine                61 non-null     float64\n",
      " 32  Glycolate              61 non-null     float64\n",
      " 33  Heptadecanoate         60 non-null     float64\n",
      " 34  Hippurate              49 non-null     float64\n",
      " 35  Histidine              61 non-null     float64\n",
      " 36  Hydroxyproline         61 non-null     float64\n",
      " 37  Hypotaurine            61 non-null     float64\n",
      " 38  Indole-3-acetaldehyde  61 non-null     float64\n",
      " 39  Inositol               61 non-null     float64\n",
      " 40  Isoleucine             61 non-null     float64\n",
      " 41  Ketoisoleucine         61 non-null     float64\n",
      " 42  Ketovaline             61 non-null     float64\n",
      " 43  Lactate                61 non-null     float64\n",
      " 44  Laureate               61 non-null     float64\n",
      " 45  Leucine                61 non-null     float64\n",
      " 46  Linoleate              61 non-null     float64\n",
      " 47  Lysine                 61 non-null     float64\n",
      " 48  Malate                 61 non-null     float64\n",
      " 49  Mannitol               61 non-null     float64\n",
      " 50  Mannose                61 non-null     float64\n",
      " 51  Methionine             61 non-null     float64\n",
      " 52  Myristate              61 non-null     float64\n",
      " 53  N-Acetylglucosamine    61 non-null     float64\n",
      " 54  Oleate                 61 non-null     float64\n",
      " 55  Ornithine              61 non-null     float64\n",
      " 56  Palmitate              61 non-null     float64\n",
      " 57  Palmitoleate           61 non-null     float64\n",
      " 58  Paraxanthine           61 non-null     float64\n",
      " 59  Pentadecanoate         61 non-null     float64\n",
      " 60  Phenylalanine          61 non-null     float64\n",
      " 61  Phosphate              61 non-null     float64\n",
      " 62  Proline                61 non-null     float64\n",
      " 63  Propylene glycol       61 non-null     float64\n",
      " 64  Pyroglutamate          61 non-null     float64\n",
      " 65  Pyruvate               61 non-null     float64\n",
      " 66  Quinate                55 non-null     float64\n",
      " 67  Serine                 61 non-null     float64\n",
      " 68  Spermidine             61 non-null     float64\n",
      " 69  Stearate               61 non-null     float64\n",
      " 70  Succinate              61 non-null     float64\n",
      " 71  Threonate              61 non-null     float64\n",
      " 72  Threonine              61 non-null     float64\n",
      " 73  Tryptophan             61 non-null     float64\n",
      " 74  Tyrosine               61 non-null     float64\n",
      " 75  Urate                  61 non-null     float64\n",
      " 76  Urea                   61 non-null     float64\n",
      " 77  Uridine                61 non-null     float64\n",
      " 78  Valine                 61 non-null     float64\n",
      " 79  Xylulose               61 non-null     float64\n",
      "dtypes: float64(78), int64(1), object(1)\n",
      "memory usage: 38.2+ KB\n"
     ]
    }
   ],
   "source": [
    "df = pd.read_csv(CF().dataset)\n",
    "df.info()"
   ]
  },
  {
   "cell_type": "code",
   "execution_count": 13,
   "id": "ca714ff6",
   "metadata": {},
   "outputs": [],
   "source": [
    "# Define target and features variables\n",
    "y = df[\"Class\"]\n",
    "X = df.drop(columns=[\"Class\", \"ID\"])"
   ]
  },
  {
   "cell_type": "code",
   "execution_count": 14,
   "id": "ff1e42b6",
   "metadata": {},
   "outputs": [],
   "source": [
    "# Define the ML pipeline\n",
    "pipeline = Pipeline([\n",
    "    (\"imputer\", SimpleImputer(strategy=\"median\")),\n",
    "    (\"scaler\", StandardScaler()),\n",
    "    (\"classifier\", LogisticRegression(penalty=\"elasticnet\",\n",
    "                                      solver=\"saga\",\n",
    "                                      max_iter=10000,))\n",
    "])\n",
    "\n",
    "# Define the hyperparameter grid\n",
    "param_grid = {\n",
    "    \"classifier__l1_ratio\": [0.1, 0.3, 0.5, 0.7, 0.9],\n",
    "    \"classifier__C\": [0.01, 0.1, 1, 10],\n",
    "}"
   ]
  },
  {
   "cell_type": "code",
   "execution_count": 15,
   "id": "26d61f21",
   "metadata": {},
   "outputs": [
    {
     "name": "stdout",
     "output_type": "stream",
     "text": [
      "Confusion Matrix:\n",
      " [[26  4]\n",
      " [ 1 30]]\n",
      "\n",
      "Classification Report:\n",
      "               precision    recall  f1-score   support\n",
      "\n",
      "           0      0.963     0.867     0.912        30\n",
      "           1      0.882     0.968     0.923        31\n",
      "\n",
      "    accuracy                          0.918        61\n",
      "   macro avg      0.923     0.917     0.918        61\n",
      "weighted avg      0.922     0.918     0.918        61\n",
      "\n",
      "Overall ROC AUC: 0.969\n"
     ]
    }
   ],
   "source": [
    "# Define cross-validation strategy for hyperparamiter tuning and model evaluation\n",
    "\n",
    "# Inner CV: For hyperparameter tuning using GridSearch\n",
    "inner_cv = StratifiedKFold(n_splits=3, shuffle=True, random_state=42)\n",
    "\n",
    "# Outer CV: For model evaluation\n",
    "outer_cv = StratifiedKFold(n_splits=3, shuffle=True, random_state=42)\n",
    "\n",
    "# Store all results\n",
    "all_y_true = []\n",
    "all_y_pred = []\n",
    "all_y_prob = []\n",
    "\n",
    "for train_idx, test_idx in outer_cv.split(X, y):\n",
    "    X_train, X_test = X.iloc[train_idx], X.iloc[test_idx]\n",
    "    y_train, y_test = y.iloc[train_idx], y.iloc[test_idx]\n",
    "\n",
    "    # Define GridSearchCV object\n",
    "    grid_search = GridSearchCV(estimator=pipeline, \n",
    "                            param_grid=param_grid, \n",
    "                            cv=inner_cv, \n",
    "                            scoring=\"roc_auc\", \n",
    "                            n_jobs=-1)\n",
    "    grid_search.fit(X_train, y_train)\n",
    "\n",
    "    best_model = grid_search.best_estimator_\n",
    "    y_pred = best_model.predict(X_test)\n",
    "    y_prob = best_model.predict_proba(X_test)[:, 1]\n",
    "    \n",
    "    # Save predictions\n",
    "    all_y_true.extend(y_test)\n",
    "    all_y_pred.extend(y_pred)\n",
    "    all_y_prob.extend(y_prob)\n",
    "\n",
    "# Final confusion matrix and classification report\n",
    "cm = confusion_matrix(all_y_true, all_y_pred)\n",
    "report = classification_report(all_y_true, all_y_pred, digits=3)\n",
    "auc = roc_auc_score(all_y_true, all_y_prob)\n",
    "\n",
    "print(\"Confusion Matrix:\\n\", cm)\n",
    "print(\"\\nClassification Report:\\n\", report)\n",
    "print(f\"Overall ROC AUC: {auc:.3f}\")"
   ]
  }
 ],
 "metadata": {
  "kernelspec": {
   "display_name": ".venv",
   "language": "python",
   "name": "python3"
  },
  "language_info": {
   "codemirror_mode": {
    "name": "ipython",
    "version": 3
   },
   "file_extension": ".py",
   "mimetype": "text/x-python",
   "name": "python",
   "nbconvert_exporter": "python",
   "pygments_lexer": "ipython3",
   "version": "3.10.11"
  }
 },
 "nbformat": 4,
 "nbformat_minor": 5
}
