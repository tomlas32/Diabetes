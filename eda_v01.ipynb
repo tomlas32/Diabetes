{
 "cells": [
  {
   "cell_type": "code",
   "execution_count": null,
   "id": "9aeeda61",
   "metadata": {},
   "outputs": [],
   "source": [
    "import pandas as pd\n",
    "import numpy as np\n",
    "from pathlib import Path"
   ]
  },
  {
   "cell_type": "code",
   "execution_count": null,
   "id": "e2f18083",
   "metadata": {},
   "outputs": [],
   "source": [
    "# Define class for handling notebook and dataset imports and settings\n",
    "class CF:\n",
    "\n",
    "    def __init__(self):\n",
    "        self.dataset = Path(\"ST000915/ST000915_Gene_Expression_Data/nafld nash/NASH-ALL-Count.txt\")\n",
    "\n",
    "        if not self.dataset.exists():\n",
    "            raise FileNotFoundError(f\"Dataset {self.dataset} not found.\")\n"
   ]
  }
 ],
 "metadata": {
  "kernelspec": {
   "display_name": ".venv",
   "language": "python",
   "name": "python3"
  },
  "language_info": {
   "name": "python",
   "version": "3.10.11"
  }
 },
 "nbformat": 4,
 "nbformat_minor": 5
}
